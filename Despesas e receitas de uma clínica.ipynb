{
 "cells": [
  {
   "cell_type": "code",
   "execution_count": 2,
   "metadata": {},
   "outputs": [
    {
     "data": {
      "image/png": "[encoded data removed]",
      "text/plain": [
       "<Figure size 432x288 with 1 Axes>"
      ]
     },
     "metadata": {
      "needs_background": "light"
     },
     "output_type": "display_data"
    }
   ],
   "source": [
    "import matplotlib.pyplot as plt\n",
    "import numpy as np\n",
    "\n",
    "gastos = 'Despesas'\n",
    "ganho = \"Receitas\"\n",
    "\n",
    "primeiro_semestre = ['Janeiro','Fevereiro','Março','Abril','Maio','Junho']\n",
    "\n",
    "despesa = [int(input('Gastos de Janeiro: ')),int(input('Gastos de Fevereiro: ')),int(input('Gastos de Março: ')),\n",
    "           int(input('Gastos de Abril: ')),int(input('Gastos de Maio: ')),int(input('Gastos de Junho: '))]\n",
    "\n",
    "receita = [int(input('Receita de Janeiro: ')),int(input('Receita de Fevereiro: ')),int(input('Receita de Março: ')),\n",
    "           int(input('Receita de Abril: ')),int(input('Receita de Maio: ')),int(input('Receita de Junho: '))]\n",
    "\n",
    "semestres = np.arange(len(primeiro_semestre))\n",
    "largura = 0.45\n",
    "\n",
    "figura, eixos = plt.subplots()\n",
    "barra_azul = eixos.bar(semestres - largura/2, despesa, largura, label=gastos)\n",
    "barra_laranja = eixos.bar(semestres + largura/2, receita, largura, label=ganho)\n",
    "\n",
    "eixos.set_ylabel(\"Dinheiro\")\n",
    "eixos.set_xlabel(\"Meses\")\n",
    "eixos.set_title(\"Gastos e ganhos da clínica\")\n",
    "eixos.set_xticks(semestres) \n",
    "eixos.set_xticklabels(primeiro_semestre)\n",
    "eixos.legend()\n",
    "\n",
    "figura.tight_layout()\n",
    "plt.show()"
   ]
  },
  {
   "cell_type": "code",
   "execution_count": null,
   "metadata": {},
   "outputs": [],
   "source": []
  }
 ],
 "metadata": {
  "kernelspec": {
   "display_name": "Python 3.8.5 ('base')",
   "language": "python",
   "name": "python3"
  },
  "language_info": {
   "codemirror_mode": {
    "name": "ipython",
    "version": 3
   },
   "file_extension": ".py",
   "mimetype": "text/x-python",
   "name": "python",
   "nbconvert_exporter": "python",
   "pygments_lexer": "ipython3",
   "version": "3.8.5"
  },
  "orig_nbformat": 4,
  "vscode": {
   "interpreter": {
    "hash": "91bb753b057673435fb8d6f6a083e6c818364728098c7ae050ca3a25357dd754"
   }
  }
 },
 "nbformat": 4,
 "nbformat_minor": 2
}
